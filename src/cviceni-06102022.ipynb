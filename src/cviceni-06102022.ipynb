{
 "cells": [
  {
   "cell_type": "markdown",
   "metadata": {},
   "source": [
    "# NPRG030 Programování I – cvičení 6.10.2022"
   ]
  },
  {
   "cell_type": "code",
   "execution_count": 1,
   "metadata": {},
   "outputs": [
    {
     "name": "stdout",
     "output_type": "stream",
     "text": [
      "3.141592653589793\n"
     ]
    }
   ],
   "source": [
    "# 1. Přečtěte ze vstupu poloměr kruhu a vytiskněte na výstup velikost jeho obsahu \n",
    "\n",
    "import math\n",
    "\n",
    "r = int(input())\n",
    "print(r*r*math.pi)"
   ]
  },
  {
   "cell_type": "code",
   "execution_count": 2,
   "metadata": {},
   "outputs": [
    {
     "name": "stdout",
     "output_type": "stream",
     "text": [
      "2.0\n"
     ]
    }
   ],
   "source": [
    "# 2. Čtěte ze vstupu čísla dokud není zadán znak `.` a na výstup vytiskněte průměr číslic\n",
    "\n",
    "a = input()\n",
    "b = 0\n",
    "suma = 0\n",
    "n = 0\n",
    "\n",
    "while a != \".\":\n",
    "    b = int(a)\n",
    "    suma += b\n",
    "    n += 1\n",
    "    a = input()\n",
    "\n",
    "print(suma / n)"
   ]
  },
  {
   "cell_type": "code",
   "execution_count": 11,
   "metadata": {},
   "outputs": [
    {
     "name": "stdout",
     "output_type": "stream",
     "text": [
      "ano\n"
     ]
    }
   ],
   "source": [
    "# 3. Přečtěte ze vstupu číslo a vypište na výstup `ano` pokud je to mocnina (2^n n > 0) dvojky nebo `ne` jinak\n",
    "\n",
    "import math\n",
    "\n",
    "x = int(input())\n",
    "\n",
    "y = math.log2(x)\n",
    "\n",
    "if y % 1 == 0:\n",
    "    print(\"ano\")\n",
    "else:\n",
    "    print(\"ne\")"
   ]
  },
  {
   "cell_type": "code",
   "execution_count": 13,
   "metadata": {},
   "outputs": [
    {
     "name": "stdout",
     "output_type": "stream",
     "text": [
      "[0, 1, 1, 2, 3, 5, 8, 13, 21, 34]\n"
     ]
    }
   ],
   "source": [
    "# 4. Přečtěte ze vstupu číslo `n` a vypište na výstup prvních `n` čísel z fibbonachiho řady. f_i = f_(i-1) + f_(i-2), f_1 = 0, f_2 = 1\n",
    "\n",
    "n = int(input())\n",
    "\n",
    "fib = [0,1] # fib[0]\n",
    "\n",
    "for i in range(n-2):\n",
    "    fib.append(fib[-1] + fib[-2])\n",
    "\n",
    "\n",
    "print(fib[:n])"
   ]
  },
  {
   "cell_type": "code",
   "execution_count": 14,
   "metadata": {},
   "outputs": [
    {
     "name": "stdout",
     "output_type": "stream",
     "text": [
      "binarni: 0b1111011\n",
      "decimalni: 123\n",
      "hexadecimalni: 0x7b\n"
     ]
    }
   ],
   "source": [
    "# 5. Přečtěte ze vstupu číslo a vytisněte jeho binární, desítkový a hexadecimální zápis\n",
    "\n",
    "x = int(input())\n",
    "\n",
    "b = bin(x)\n",
    "h = hex(x)\n",
    "\n",
    "print(\"binarni:\", b)\n",
    "print(\"decimalni:\", x)\n",
    "print(\"hexadecimalni:\", h)"
   ]
  },
  {
   "cell_type": "code",
   "execution_count": 1,
   "metadata": {},
   "outputs": [
    {
     "name": "stdout",
     "output_type": "stream",
     "text": [
      "9\n"
     ]
    }
   ],
   "source": [
    "# 6. Vypočtěte superčíslo zadaného kladného čísla ze vstupu. sč(n) = n pokud n < 10, sč(n) = sč(součet číslic v desítkovém zápisu n),\n",
    "# př. sč(123) = sč(1+2+3) = 6\n",
    "\n",
    "n = input()\n",
    "\n",
    "while True:\n",
    "    soucet = 0\n",
    "\n",
    "    for c in n:\n",
    "        soucet += int(c)\n",
    "    if soucet < 10:\n",
    "        break\n",
    "    n = str(soucet)\n",
    "\n",
    "print(soucet)"
   ]
  },
  {
   "cell_type": "markdown",
   "metadata": {},
   "source": [
    "__Philosophical corner__\n",
    "\n",
    "* https://vimeo.com/64895205 (do 4:30)\n",
    "* https://youtu.be/I9LZ6TnSP40\n",
    "* http://norvig.com/21-days.html"
   ]
  },
  {
   "cell_type": "markdown",
   "metadata": {},
   "source": []
  }
 ],
 "metadata": {
  "kernelspec": {
   "display_name": "Python 3.8.13 ('base')",
   "language": "python",
   "name": "python3"
  },
  "language_info": {
   "codemirror_mode": {
    "name": "ipython",
    "version": 3
   },
   "file_extension": ".py",
   "mimetype": "text/x-python",
   "name": "python",
   "nbconvert_exporter": "python",
   "pygments_lexer": "ipython3",
   "version": "3.8.13"
  },
  "orig_nbformat": 4,
  "vscode": {
   "interpreter": {
    "hash": "c2682ce602ceea6b01d4b38db753e69167a6e871ea179ae3ffb59c5ec74143fe"
   }
  }
 },
 "nbformat": 4,
 "nbformat_minor": 2
}
