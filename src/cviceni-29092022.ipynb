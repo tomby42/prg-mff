{
 "cells": [
  {
   "cell_type": "markdown",
   "metadata": {},
   "source": [
    "# NPRG030 Programování I – cvičení\n",
    "\n",
    "Tomáš Bílý\n",
    "- tomby (at) kam.mff.cuni.cz\n",
    "- https://github.com/tomby42/prg-mff.git\n",
    "\n",
    "Podmínky zápočtu:\n",
    "- aktivní účast na cvičení\n",
    "- nejméně 70% bodů z domácích úkolů (recodex, 1 týden na odevzdání)\n",
    "  - 50%-70% na konci semetru bude možno dodělat náročnější ůkoly během zk období\n",
    "- zápočtový test      \n",
    "- zápočtový program (včetně dokumentace)\n",
    "  - vypracování nejpozději do 28.2.2023!\n",
    "  - zadání tématu ke schválení do 18.12.2022\n"
   ]
  },
  {
   "cell_type": "code",
   "execution_count": 12,
   "metadata": {},
   "outputs": [],
   "source": [
    "import numpy as np\n",
    "import matplotlib.pyplot as plt\n",
    "import math"
   ]
  },
  {
   "cell_type": "code",
   "execution_count": null,
   "metadata": {},
   "outputs": [],
   "source": [
    "# simple syntax\n",
    "\n",
    "x_1 = 1\n",
    "x_2 = 2\n",
    "x_sum = x_1 + x_2\n",
    "x_mult = 3 * 4\n",
    "x_sub = 4 - 3\n",
    "x_div = 4 / 2\n",
    "x_mod = 4 % 3\n",
    "x_div_int = 4 // 3\n",
    "x_exp = 2 ** 3\n",
    "x_log10 = math.log10(10)\n",
    "x_float = 1.2e-10\n",
    "\n",
    "# 32-bit -2^31 do 2^31 - 1\n",
    "\n",
    "x_str = \"halo, tady rucnik\" \n",
    "x_str1 = 'ahoj'\n",
    "x_str2 = \"\"\"\n",
    "dlsfkjlkdsfjd\n",
    "\"\"\"\n",
    "x_str_cat = x_str + \" volam mydlo\"\n",
    "\n",
    "x_parse_int = int(\"10\")\n",
    "x_parse_float = float(\"10.1\")\n",
    "\n",
    "# nazev_funcke(param1, param2, ....)\n",
    "\n",
    "False\n",
    "True\n"
   ]
  },
  {
   "cell_type": "code",
   "execution_count": 4,
   "metadata": {},
   "outputs": [
    {
     "name": "stdout",
     "output_type": "stream",
     "text": [
      "area of rectangle 20 by 30 is 600\n"
     ]
    }
   ],
   "source": [
    "# rectangle area\n",
    "\n",
    "x = int(input(\"width\"))\n",
    "y = int(input(\"height\"))\n",
    "print(f\"area of rectangle {x} by {y} is {x*y}\")"
   ]
  },
  {
   "cell_type": "code",
   "execution_count": 3,
   "metadata": {},
   "outputs": [
    {
     "name": "stdout",
     "output_type": "stream",
     "text": [
      "factorial of 4 is 24\n"
     ]
    }
   ],
   "source": [
    "# faktorial\n",
    "n = int(input(\"number\"))\n",
    "\n",
    "f = 1\n",
    "j = n\n",
    "while j > 1:\n",
    "    f *= j\n",
    "    j -= 1\n",
    "\n",
    "print(f\"factorial of {n} is {f}\")"
   ]
  },
  {
   "cell_type": "code",
   "execution_count": 9,
   "metadata": {},
   "outputs": [
    {
     "name": "stdout",
     "output_type": "stream",
     "text": [
      "6\n"
     ]
    }
   ],
   "source": [
    "# Sum of digits in decadic number system\n",
    "# 123 -> 1+2+3 -> 6\n",
    "\n",
    "n = int(input())\n",
    "s = 0\n",
    "\n",
    "while n > 0:\n",
    "    c = n % 10\n",
    "    s += c\n",
    "    n = n // 10\n",
    "\n",
    "print(s)"
   ]
  },
  {
   "cell_type": "code",
   "execution_count": 10,
   "metadata": {},
   "outputs": [
    {
     "name": "stdout",
     "output_type": "stream",
     "text": [
      "6\n"
     ]
    }
   ],
   "source": [
    "# sum of numbers\n",
    "\n",
    "s = 0\n",
    "while True:\n",
    "    n = input(\"number or . for end\")\n",
    "    if n == '.':\n",
    "        break\n",
    "    s += int(n)\n",
    "\n",
    "print(s)"
   ]
  },
  {
   "cell_type": "markdown",
   "metadata": {},
   "source": [
    "* Přečtěte ze vstupu poloměr kruhu a vytiskněte na výstup velikost jeho obsahu\n",
    "* Čtěte ze vstupu čísla dokud není zadán znak `.` a na výstup vytiskněte průměr číslic\n",
    "* Přečtěte ze vstupu číslo a vypište na výstup `ano` pokud je to mocnina dvojky nebo `ne` jinak\n",
    "* Přečtěte ze vstupu číslo `n` a vypište na výstup prvních `n` čísel z fibbonachiho řady. f_i = f_(i-1) + f_(i-2), f_1 = 0, f_2 = 1 \n",
    "* Přečtěte ze vstupu číslo a vytisněte jeho binární, desítkový a hexadecimální zápis\n",
    "* Vypočtěte superčíslo zadaného kladného čísla ze vstupu. sč(n) = n pokud n < 10, sč(n) = sč(součet číslic v desítkovém zápisu n)"
   ]
  }
 ],
 "metadata": {
  "kernelspec": {
   "display_name": "Python 3.8.13 ('base')",
   "language": "python",
   "name": "python3"
  },
  "language_info": {
   "codemirror_mode": {
    "name": "ipython",
    "version": 3
   },
   "file_extension": ".py",
   "mimetype": "text/x-python",
   "name": "python",
   "nbconvert_exporter": "python",
   "pygments_lexer": "ipython3",
   "version": "3.8.13"
  },
  "orig_nbformat": 4,
  "vscode": {
   "interpreter": {
    "hash": "c2682ce602ceea6b01d4b38db753e69167a6e871ea179ae3ffb59c5ec74143fe"
   }
  }
 },
 "nbformat": 4,
 "nbformat_minor": 2
}
